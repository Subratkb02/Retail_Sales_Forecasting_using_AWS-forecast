{
 "cells": [
  {
   "cell_type": "code",
   "execution_count": null,
   "id": "64660dd2",
   "metadata": {
    "vscode": {
     "languageId": "plaintext"
    }
   },
   "outputs": [],
   "source": []
  },
  {
   "cell_type": "code",
   "execution_count": null,
   "id": "44d40af3",
   "metadata": {
    "vscode": {
     "languageId": "plaintext"
    }
   },
   "outputs": [],
   "source": [
    "import pandas as pd\n",
    "import matplotlib.pyplot as plt\n",
    "import seaborn as sns\n",
    "from pathlib import Path\n",
    "\n",
    "# Load the processed data\n",
    "processed_data_path = Path('../data/processed_sales_data.csv')\n",
    "sales_data = pd.read_csv(processed_data_path, index_col='date')\n",
    "\n",
    "# Plot the sales data\n",
    "plt.figure(figsize=(12, 6))\n",
    "sns.lineplot(data=sales_data, x=sales_data.index, y='sales')\n",
    "plt.title('Historical Sales Data')\n",
    "plt.xlabel('Date')\n",
    "plt.ylabel('Sales')\n",
    "plt.show()\n"
   ]
  }
 ],
 "metadata": {
  "language_info": {
   "name": "python"
  }
 },
 "nbformat": 4,
 "nbformat_minor": 5
}
